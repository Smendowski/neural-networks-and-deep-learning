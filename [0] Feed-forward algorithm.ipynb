{
 "cells": [
  {
   "cell_type": "code",
   "execution_count": 1,
   "id": "medical-chicken",
   "metadata": {},
   "outputs": [],
   "source": [
    "inputs = [4.9, 3.0, 1.4, 0.2]\n",
    "weights = [0.9, 0.8, -1.0, -1.0]"
   ]
  },
  {
   "cell_type": "code",
   "execution_count": 4,
   "id": "fiscal-recruitment",
   "metadata": {},
   "outputs": [],
   "source": [
    "# Flow of feed-forward algorithm\n",
    "# weighted_sum -> compare with threshold -> decision"
   ]
  },
  {
   "cell_type": "code",
   "execution_count": 7,
   "id": "ethical-delaware",
   "metadata": {},
   "outputs": [],
   "source": [
    "def calculate_weighted_sum(inputs, weights):\n",
    "    total = 0\n",
    "    for input_value, weight in zip(inputs, weights):\n",
    "        total += input_value * weight\n",
    "\n",
    "    return total"
   ]
  },
  {
   "cell_type": "code",
   "execution_count": 8,
   "id": "personal-count",
   "metadata": {},
   "outputs": [],
   "source": [
    "def decide(number, threshold):\n",
    "    if number >= threshold:\n",
    "        return 1\n",
    "    else:\n",
    "        return 0"
   ]
  },
  {
   "cell_type": "code",
   "execution_count": 9,
   "id": "alive-assist",
   "metadata": {},
   "outputs": [
    {
     "name": "stdout",
     "output_type": "stream",
     "text": [
      "5.21\n"
     ]
    }
   ],
   "source": [
    "node_input = calculate_weighted_sum(inputs, weights)\n",
    "print(node_input)"
   ]
  },
  {
   "cell_type": "code",
   "execution_count": 10,
   "id": "practical-float",
   "metadata": {},
   "outputs": [
    {
     "name": "stdout",
     "output_type": "stream",
     "text": [
      "1\n"
     ]
    }
   ],
   "source": [
    "threshold = 2\n",
    "node_output = decide(node_input, threshold)\n",
    "print(node_output)"
   ]
  },
  {
   "cell_type": "markdown",
   "id": "subject-jerusalem",
   "metadata": {},
   "source": [
    "#### Output of the Neural Network"
   ]
  },
  {
   "cell_type": "code",
   "execution_count": 13,
   "id": "invisible-taiwan",
   "metadata": {},
   "outputs": [],
   "source": [
    "inputs = [[4.9, 3.0, 1.4, 0.2],\n",
    "          [6.4, 3.2, 4.5, 1.5],\n",
    "          [5.8, 2.7, 5.1, 1.9]]\n",
    "\n",
    "weights_1 = [[0.9, 0.8, -1.0, -1.0],\n",
    "             [-0.5, -0.5, 1.5, 1.0]]\n",
    "\n",
    "weights_2 = [[2.0, -1.0],\n",
    "             [1.0, 1.0],\n",
    "             [-1.0, 2.0]]"
   ]
  },
  {
   "cell_type": "code",
   "execution_count": 14,
   "id": "declared-animal",
   "metadata": {},
   "outputs": [],
   "source": [
    "def calculate_neural_network_output(list_of_inputs, list_of_weights, activation_function, threshold):\n",
    "    layer_outputs = []\n",
    "    for inputs in list_of_inputs:\n",
    "\n",
    "        node_outputs = []\n",
    "        for weights in list_of_weights:\n",
    "            node_input = calculate_weighted_sum(inputs, weights)\n",
    "            if activation_function:\n",
    "                node_output = decide(node_input, threshold)\n",
    "            else:\n",
    "                node_output = node_input\n",
    "            node_outputs.append(node_output)\n",
    "            \n",
    "        layer_outputs.append(node_outputs)\n",
    "        \n",
    "    return layer_outputs"
   ]
  },
  {
   "cell_type": "code",
   "execution_count": 15,
   "id": "pleased-toyota",
   "metadata": {},
   "outputs": [],
   "source": [
    "hidden_layer_outputs = calculate_neural_network_output(inputs, weights_1, True)"
   ]
  },
  {
   "cell_type": "code",
   "execution_count": 16,
   "id": "dbd45ac8",
   "metadata": {},
   "outputs": [
    {
     "data": {
      "text/plain": [
       "[[1, 0], [1, 1], [0, 1]]"
      ]
     },
     "execution_count": 16,
     "metadata": {},
     "output_type": "execute_result"
    }
   ],
   "source": [
    "hidden_layer_outputs"
   ]
  },
  {
   "cell_type": "code",
   "execution_count": null,
   "id": "0d2fc7fc",
   "metadata": {},
   "outputs": [],
   "source": []
  }
 ],
 "metadata": {
  "kernelspec": {
   "display_name": "Python 3.10.5 64-bit ('3.10.5')",
   "language": "python",
   "name": "python3"
  },
  "language_info": {
   "codemirror_mode": {
    "name": "ipython",
    "version": 3
   },
   "file_extension": ".py",
   "mimetype": "text/x-python",
   "name": "python",
   "nbconvert_exporter": "python",
   "pygments_lexer": "ipython3",
   "version": "3.10.5"
  },
  "vscode": {
   "interpreter": {
    "hash": "16ce62d89139d6b459a4fa414ee333754219537208081da9003b7fab6a6c11db"
   }
  }
 },
 "nbformat": 4,
 "nbformat_minor": 5
}
